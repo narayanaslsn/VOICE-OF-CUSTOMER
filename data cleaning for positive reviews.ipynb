{
 "cells": [
  {
   "cell_type": "code",
   "execution_count": 3,
   "id": "85099556",
   "metadata": {},
   "outputs": [
    {
     "name": "stdout",
     "output_type": "stream",
     "text": [
      "364099\n"
     ]
    }
   ],
   "source": [
    "import pandas as pd\n",
    "\n",
    "df = pd.read_csv('pos_reviews1.csv')\n",
    "df.head(15)\n",
    "print(len(df))"
   ]
  },
  {
   "cell_type": "code",
   "execution_count": 5,
   "id": "0b5ba5ac",
   "metadata": {},
   "outputs": [
    {
     "name": "stdout",
     "output_type": "stream",
     "text": [
      "152518\n"
     ]
    }
   ],
   "source": [
    "df.drop_duplicates(subset = ['ProfileName'], inplace = True )\n",
    "print(len(df))"
   ]
  },
  {
   "cell_type": "code",
   "execution_count": 6,
   "id": "a8018f6f",
   "metadata": {},
   "outputs": [
    {
     "data": {
      "text/html": [
       "<div>\n",
       "<style scoped>\n",
       "    .dataframe tbody tr th:only-of-type {\n",
       "        vertical-align: middle;\n",
       "    }\n",
       "\n",
       "    .dataframe tbody tr th {\n",
       "        vertical-align: top;\n",
       "    }\n",
       "\n",
       "    .dataframe thead th {\n",
       "        text-align: right;\n",
       "    }\n",
       "</style>\n",
       "<table border=\"1\" class=\"dataframe\">\n",
       "  <thead>\n",
       "    <tr style=\"text-align: right;\">\n",
       "      <th></th>\n",
       "      <th>Id</th>\n",
       "      <th>ProductId</th>\n",
       "      <th>UserId</th>\n",
       "      <th>ProfileName</th>\n",
       "      <th>HelpfulnessNumerator</th>\n",
       "      <th>HelpfulnessDenominator</th>\n",
       "      <th>Score</th>\n",
       "      <th>Time</th>\n",
       "      <th>Summary</th>\n",
       "      <th>Text</th>\n",
       "      <th>sentiment</th>\n",
       "    </tr>\n",
       "  </thead>\n",
       "  <tbody>\n",
       "    <tr>\n",
       "      <th>0</th>\n",
       "      <td>510859</td>\n",
       "      <td>B004R6F88W</td>\n",
       "      <td>A6J8ESD5NBGZ</td>\n",
       "      <td>kees</td>\n",
       "      <td>0</td>\n",
       "      <td>0</td>\n",
       "      <td>5</td>\n",
       "      <td>1343606400</td>\n",
       "      <td>Yum</td>\n",
       "      <td>Arrived quick, beautifully packaged and delici...</td>\n",
       "      <td>0.964</td>\n",
       "    </tr>\n",
       "    <tr>\n",
       "      <th>1</th>\n",
       "      <td>472334</td>\n",
       "      <td>B00488N8KY</td>\n",
       "      <td>A37E7G74Y4U93F</td>\n",
       "      <td>CHARLES</td>\n",
       "      <td>0</td>\n",
       "      <td>0</td>\n",
       "      <td>5</td>\n",
       "      <td>1332374400</td>\n",
       "      <td>HONEST EARTH POTATOES</td>\n",
       "      <td>GREAT GREAT GREAT GREAT GREAT GREAT GREAT GREA...</td>\n",
       "      <td>0.884</td>\n",
       "    </tr>\n",
       "    <tr>\n",
       "      <th>2</th>\n",
       "      <td>257810</td>\n",
       "      <td>B000J0NX8W</td>\n",
       "      <td>A1E6MMWRIJA6GD</td>\n",
       "      <td>Frank</td>\n",
       "      <td>1</td>\n",
       "      <td>1</td>\n",
       "      <td>5</td>\n",
       "      <td>1315526400</td>\n",
       "      <td>great low carb brownies</td>\n",
       "      <td>excellent product, easy to make, tastes great,...</td>\n",
       "      <td>0.828</td>\n",
       "    </tr>\n",
       "    <tr>\n",
       "      <th>3</th>\n",
       "      <td>256425</td>\n",
       "      <td>B0008IUUDQ</td>\n",
       "      <td>A20NS3L867EZX1</td>\n",
       "      <td>N. R. Forbes</td>\n",
       "      <td>2</td>\n",
       "      <td>4</td>\n",
       "      <td>5</td>\n",
       "      <td>1254787200</td>\n",
       "      <td>I Love love love love love love love love this...</td>\n",
       "      <td>Let me say it again. I Love love love love lov...</td>\n",
       "      <td>0.793</td>\n",
       "    </tr>\n",
       "    <tr>\n",
       "      <th>4</th>\n",
       "      <td>234393</td>\n",
       "      <td>B000F4H5GI</td>\n",
       "      <td>A47ZTYZTX783J</td>\n",
       "      <td>Sheri L. Pritchard</td>\n",
       "      <td>0</td>\n",
       "      <td>2</td>\n",
       "      <td>5</td>\n",
       "      <td>1171152000</td>\n",
       "      <td>Twinings Irish Breakfast Tea, Tea Bags, 20-Cou...</td>\n",
       "      <td>OUR FAVORITE! EXCELLENT ITEM!!</td>\n",
       "      <td>0.791</td>\n",
       "    </tr>\n",
       "  </tbody>\n",
       "</table>\n",
       "</div>"
      ],
      "text/plain": [
       "       Id   ProductId          UserId         ProfileName  \\\n",
       "0  510859  B004R6F88W    A6J8ESD5NBGZ                kees   \n",
       "1  472334  B00488N8KY  A37E7G74Y4U93F             CHARLES   \n",
       "2  257810  B000J0NX8W  A1E6MMWRIJA6GD               Frank   \n",
       "3  256425  B0008IUUDQ  A20NS3L867EZX1        N. R. Forbes   \n",
       "4  234393  B000F4H5GI   A47ZTYZTX783J  Sheri L. Pritchard   \n",
       "\n",
       "   HelpfulnessNumerator  HelpfulnessDenominator  Score        Time  \\\n",
       "0                     0                       0      5  1343606400   \n",
       "1                     0                       0      5  1332374400   \n",
       "2                     1                       1      5  1315526400   \n",
       "3                     2                       4      5  1254787200   \n",
       "4                     0                       2      5  1171152000   \n",
       "\n",
       "                                             Summary  \\\n",
       "0                                                Yum   \n",
       "1                              HONEST EARTH POTATOES   \n",
       "2                            great low carb brownies   \n",
       "3  I Love love love love love love love love this...   \n",
       "4  Twinings Irish Breakfast Tea, Tea Bags, 20-Cou...   \n",
       "\n",
       "                                                Text  sentiment  \n",
       "0  Arrived quick, beautifully packaged and delici...      0.964  \n",
       "1  GREAT GREAT GREAT GREAT GREAT GREAT GREAT GREA...      0.884  \n",
       "2  excellent product, easy to make, tastes great,...      0.828  \n",
       "3  Let me say it again. I Love love love love lov...      0.793  \n",
       "4                     OUR FAVORITE! EXCELLENT ITEM!!      0.791  "
      ]
     },
     "execution_count": 6,
     "metadata": {},
     "output_type": "execute_result"
    }
   ],
   "source": [
    "df.head()"
   ]
  },
  {
   "cell_type": "code",
   "execution_count": 7,
   "id": "e49ab85e",
   "metadata": {},
   "outputs": [],
   "source": [
    "df.to_csv('updated_pos.csv', index = False)"
   ]
  },
  {
   "cell_type": "code",
   "execution_count": 8,
   "id": "4fd013cc",
   "metadata": {},
   "outputs": [
    {
     "data": {
      "text/plain": [
       "<wordcloud.wordcloud.WordCloud at 0x17942486a30>"
      ]
     },
     "execution_count": 8,
     "metadata": {},
     "output_type": "execute_result"
    }
   ],
   "source": [
    "import matplotlib.pyplot as plt\n",
    "from wordcloud import WordCloud,STOPWORDS\n",
    "from nltk.corpus import stopwords\n",
    "import sys, os\n",
    "os.chdir(sys.path[0])\n",
    "\n",
    "# Read CSV file into a pandas DataFrame\n",
    "df2 = pd.read_csv('updated_pos.csv')\n",
    "\n",
    "# Extract text from a specific column\n",
    "updated_pos = df2['Text'].to_string(index=False)\n",
    "\n",
    "# Save the text to a text file\n",
    "with open('updated_pos.txt', 'w', encoding='utf-8') as file:\n",
    "    file.write(updated_pos)\n",
    "    \n",
    "text1 = open('updated_pos.txt', mode = 'r', encoding = 'utf-8').read()\n",
    "stopwords = set(stopwords.words('english'))\n",
    "\n",
    "wc = WordCloud(\n",
    "        background_color = 'white',\n",
    "        stopwords= stopwords,\n",
    "        height = 600,\n",
    "        width = 400)\n",
    "\n",
    "wc.generate(text1)\n",
    "wc.to_file('updated_pos.png')"
   ]
  },
  {
   "cell_type": "code",
   "execution_count": null,
   "id": "348280a0",
   "metadata": {},
   "outputs": [],
   "source": []
  }
 ],
 "metadata": {
  "kernelspec": {
   "display_name": "Python 3 (ipykernel)",
   "language": "python",
   "name": "python3"
  },
  "language_info": {
   "codemirror_mode": {
    "name": "ipython",
    "version": 3
   },
   "file_extension": ".py",
   "mimetype": "text/x-python",
   "name": "python",
   "nbconvert_exporter": "python",
   "pygments_lexer": "ipython3",
   "version": "3.9.16"
  }
 },
 "nbformat": 4,
 "nbformat_minor": 5
}
